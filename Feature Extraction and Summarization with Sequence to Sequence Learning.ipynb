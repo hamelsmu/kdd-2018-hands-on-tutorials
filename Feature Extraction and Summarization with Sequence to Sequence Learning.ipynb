{
  "nbformat": 4,
  "nbformat_minor": 0,
  "metadata": {
    "colab": {
      "name": "Feature Extraction and Summarization with Sequence to Sequence Learning.ipynb",
      "version": "0.3.2",
      "provenance": [],
      "toc_visible": true,
      "include_colab_link": true
    },
    "kernelspec": {
      "display_name": "Python 3",
      "language": "python",
      "name": "python3"
    },
    "accelerator": "GPU"
  },
  "cells": [
    {
      "cell_type": "markdown",
      "metadata": {
        "id": "view-in-github",
        "colab_type": "text"
      },
      "source": [
        "[View in Colaboratory](https://colab.research.google.com/github/hamelsmu/kdd-2018-hands-on-tutorials/blob/master/Feature%20Extraction%20and%20Summarization%20with%20Sequence%20to%20Sequence%20Learning.ipynb)"
      ]
    },
    {
      "metadata": {
        "id": "Q-gKT37Didb7",
        "colab_type": "text"
      },
      "cell_type": "markdown",
      "source": [
        "# Setup Notebook\n",
        "\n",
        "Install [ktext](https://github.com/hamelsmu/ktext) and [annoy](https://github.com/spotify/annoy)."
      ]
    },
    {
      "metadata": {
        "id": "E7l80u-0fyHK",
        "colab_type": "code",
        "colab": {}
      },
      "cell_type": "code",
      "source": [
        "!pip install -q ktext\n",
        "!pip install -q annoy"
      ],
      "execution_count": 0,
      "outputs": []
    },
    {
      "metadata": {
        "id": "W-KjInFk0v8l",
        "colab_type": "code",
        "colab": {
          "base_uri": "https://localhost:8080/",
          "height": 34
        },
        "outputId": "e8547e15-c6ae-4e07-9fb1-c56023312183"
      },
      "cell_type": "code",
      "source": [
        "import json\n",
        "from urllib.request import urlopen\n",
        "\n",
        "from annoy import AnnoyIndex\n",
        "from keras import optimizers\n",
        "from keras.layers import Input, Dense, LSTM, GRU, Embedding, Lambda, BatchNormalization\n",
        "from keras.models import Model\n",
        "from keras import optimizers\n",
        "from keras.preprocessing.sequence import pad_sequences\n",
        "from keras.utils import to_categorical\n",
        "from ktext.preprocess import processor\n",
        "import numpy as np\n",
        "import pandas as pd\n",
        "import random\n",
        "from tqdm import tqdm"
      ],
      "execution_count": 6,
      "outputs": [
        {
          "output_type": "stream",
          "text": [
            "Using TensorFlow backend.\n"
          ],
          "name": "stderr"
        }
      ]
    },
    {
      "metadata": {
        "id": "iZzcs-PDPZqn",
        "colab_type": "text"
      },
      "cell_type": "markdown",
      "source": [
        "# Data sets"
      ]
    },
    {
      "metadata": {
        "id": "oQLV9P8h0v8q",
        "colab_type": "text"
      },
      "cell_type": "markdown",
      "source": [
        "## [English to French](http://www.manythings.org/anki/)"
      ]
    },
    {
      "metadata": {
        "id": "1uK2D4090v8r",
        "colab_type": "code",
        "colab": {}
      },
      "cell_type": "code",
      "source": [
        "# !wget http://www.manythings.org/anki/fra-eng.zip\n",
        "# !unzip -o fra-eng.zip"
      ],
      "execution_count": 0,
      "outputs": []
    },
    {
      "metadata": {
        "id": "8UMp9B4M0v8u",
        "colab_type": "code",
        "colab": {}
      },
      "cell_type": "code",
      "source": [
        "# with open('fra.txt', 'r') as f:\n",
        "#     lines = f.readlines()\n",
        "# target_docs, source_docs = zip(*[line.strip().split('\\t') for line in lines])\n",
        "# target_docs = list(set(target_docs))"
      ],
      "execution_count": 0,
      "outputs": []
    },
    {
      "metadata": {
        "id": "McfeOLlh0v8x",
        "colab_type": "text"
      },
      "cell_type": "markdown",
      "source": [
        "## [CoNaLa](https://conala-corpus.github.io/)"
      ]
    },
    {
      "metadata": {
        "id": "JAAOUd-k0v8x",
        "colab_type": "code",
        "colab": {
          "base_uri": "https://localhost:8080/",
          "height": 289
        },
        "outputId": "7c3ef9e0-82de-4409-c5d4-44d7167dd39a"
      },
      "cell_type": "code",
      "source": [
        "!wget http://www.phontron.com/download/conala-corpus-v1.1.zip\n",
        "!unzip -o conala-corpus-v1.1.zip"
      ],
      "execution_count": 7,
      "outputs": [
        {
          "output_type": "stream",
          "text": [
            "--2018-08-08 03:23:04--  http://www.phontron.com/download/conala-corpus-v1.1.zip\n",
            "Resolving www.phontron.com (www.phontron.com)... 208.113.196.149\n",
            "Connecting to www.phontron.com (www.phontron.com)|208.113.196.149|:80... connected.\n",
            "HTTP request sent, awaiting response... 200 OK\n",
            "Length: 52105440 (50M) [application/zip]\n",
            "Saving to: ‘conala-corpus-v1.1.zip’\n",
            "\n",
            "conala-corpus-v1.1. 100%[===================>]  49.69M  76.1MB/s    in 0.7s    \n",
            "\n",
            "2018-08-08 03:23:05 (76.1 MB/s) - ‘conala-corpus-v1.1.zip’ saved [52105440/52105440]\n",
            "\n",
            "Archive:  conala-corpus-v1.1.zip\n",
            "   creating: conala-corpus/\n",
            "  inflating: conala-corpus/conala-mined.jsonl  \n",
            "  inflating: conala-corpus/conala-train.json  \n",
            "  inflating: conala-corpus/conala-test.json  \n"
          ],
          "name": "stdout"
        }
      ]
    },
    {
      "metadata": {
        "id": "hFzeLKxg0v81",
        "colab_type": "code",
        "colab": {}
      },
      "cell_type": "code",
      "source": [
        "with open('conala-corpus/conala-mined.jsonl', 'r') as f:\n",
        "    lines = [json.loads(line) for line in f.readlines()]\n",
        "source_docs = [line['snippet'] for line in lines]\n",
        "target_docs = [line['intent'] for line in lines]"
      ],
      "execution_count": 0,
      "outputs": []
    },
    {
      "metadata": {
        "id": "QsXzuRH50v83",
        "colab_type": "code",
        "colab": {}
      },
      "cell_type": "code",
      "source": [
        "with open('conala-corpus/conala-train.json', 'r') as f:\n",
        "    lines = json.load(f)\n",
        "train_source_docs = [line['snippet'] for line in lines]\n",
        "train_target_docs = [line['intent'] for line in lines]\n",
        "test_docs = [line['rewritten_intent'] for line in lines if line['rewritten_intent']]"
      ],
      "execution_count": 0,
      "outputs": []
    },
    {
      "metadata": {
        "id": "-t0x8A5w0v87",
        "colab_type": "code",
        "colab": {}
      },
      "cell_type": "code",
      "source": [
        "with open('conala-corpus/conala-test.json', 'r') as f:\n",
        "    lines = json.load(f)\n",
        "test_source_docs = [line['snippet'] for line in lines]\n",
        "test_target_docs = [line['intent'] for line in lines]"
      ],
      "execution_count": 0,
      "outputs": []
    },
    {
      "metadata": {
        "id": "EhmB0qpr3RD5",
        "colab_type": "text"
      },
      "cell_type": "markdown",
      "source": [
        "## Other Data Sources (For Later Use)"
      ]
    },
    {
      "metadata": {
        "id": "bw33N_AcPZqp",
        "colab_type": "text"
      },
      "cell_type": "markdown",
      "source": [
        "### GitHub issues data"
      ]
    },
    {
      "metadata": {
        "id": "GSR2uek3PZqq",
        "colab_type": "code",
        "colab": {}
      },
      "cell_type": "code",
      "source": [
        "# issues = pd.read_csv('https://storage.googleapis.com/kubeflow-examples/github-issue-summarization-data/github-issues.zip')\n",
        "# source_docs = list(issues.body)\n",
        "# target_docs = list(issues.issue_title)"
      ],
      "execution_count": 0,
      "outputs": []
    },
    {
      "metadata": {
        "id": "AP58__OgPZqt",
        "colab_type": "text"
      },
      "cell_type": "markdown",
      "source": [
        "### Python functions data"
      ]
    },
    {
      "metadata": {
        "id": "izpU8EXGPZqu",
        "colab_type": "code",
        "colab": {}
      },
      "cell_type": "code",
      "source": [
        "# f = urlopen('https://storage.googleapis.com/kubeflow-examples/code_search/data/train.function')\n",
        "# source_docs = [line.decode('utf-8') for line in f.readlines()]\n",
        "# f = urlopen('https://storage.googleapis.com/kubeflow-examples/code_search/data/train.docstring')\n",
        "# target_docs = [line.decode('utf-8') for line in f.readlines()]"
      ],
      "execution_count": 0,
      "outputs": []
    },
    {
      "metadata": {
        "id": "8JykNMln0v9I",
        "colab_type": "text"
      },
      "cell_type": "markdown",
      "source": [
        "## Use subset of the data\n",
        "\n",
        "We will use only of the training set in the interest of brevity.  However, we can use the full dataset in a subsequent pass if desired."
      ]
    },
    {
      "metadata": {
        "id": "Hj1tDqDFPZqx",
        "colab_type": "code",
        "colab": {}
      },
      "cell_type": "code",
      "source": [
        "source_docs = source_docs[:100000]\n",
        "target_docs = target_docs[:100000]"
      ],
      "execution_count": 0,
      "outputs": []
    },
    {
      "metadata": {
        "id": "lxYjchOjPZqz",
        "colab_type": "text"
      },
      "cell_type": "markdown",
      "source": [
        "# Language Model"
      ]
    },
    {
      "metadata": {
        "id": "COkelzEXPZq0",
        "colab_type": "text"
      },
      "cell_type": "markdown",
      "source": [
        "## Preprocessing\n",
        "Tokenize, generate vocabulary, apply padding and vectorize."
      ]
    },
    {
      "metadata": {
        "id": "hT8NcmEU4C4A",
        "colab_type": "text"
      },
      "cell_type": "markdown",
      "source": [
        "Lets inspect the raw text of the target docs.  "
      ]
    },
    {
      "metadata": {
        "id": "Ww4AHHUX4CPL",
        "colab_type": "code",
        "colab": {
          "base_uri": "https://localhost:8080/",
          "height": 187
        },
        "outputId": "bb91d64e-a95b-4d29-d18c-7cae715b5fa1"
      },
      "cell_type": "code",
      "source": [
        "target_docs[:10]"
      ],
      "execution_count": 12,
      "outputs": [
        {
          "output_type": "execute_result",
          "data": {
            "text/plain": [
              "['Sort a nested list by two elements',\n",
              " 'converting integer to list in python',\n",
              " 'Converting byte string in unicode string',\n",
              " 'List of arguments with argparse',\n",
              " 'How to convert a Date string to a DateTime object?',\n",
              " 'How to efficiently convert Matlab engine arrays to numpy ndarray?',\n",
              " 'Converting html to text with Python',\n",
              " 'regex for repeating words in a string in Python',\n",
              " 'Ordering a list of dictionaries in python',\n",
              " 'Two Combination Lists from One List']"
            ]
          },
          "metadata": {
            "tags": []
          },
          "execution_count": 12
        }
      ]
    },
    {
      "metadata": {
        "id": "LTxQMjaa4WsL",
        "colab_type": "text"
      },
      "cell_type": "markdown",
      "source": [
        "In order to pre-process this text for deep learning, we need to convert this text into integer values.  In order to do this, we will use the `ktext` package."
      ]
    },
    {
      "metadata": {
        "id": "uHOMxrONPZq3",
        "colab_type": "code",
        "colab": {
          "base_uri": "https://localhost:8080/",
          "height": 187
        },
        "outputId": "75152c95-15c7-44e1-9fa1-fd953dbc0db4"
      },
      "cell_type": "code",
      "source": [
        "proc = processor(hueristic_pct_padding=.7, keep_n=20000)\n",
        "vecs = proc.fit_transform(target_docs)"
      ],
      "execution_count": 13,
      "outputs": [
        {
          "output_type": "stream",
          "text": [
            "WARNING:root:....tokenizing data\n",
            "WARNING:root:Setting maximum document length to 10 based upon hueristic of 0.7 percentile.\n",
            " See full histogram by insepecting the `document_length_stats` attribute.\n",
            "WARNING:root:(1/2) done. 23 sec\n",
            "WARNING:root:....building corpus\n",
            "WARNING:root:(2/2) done. 0 sec\n",
            "WARNING:root:Finished parsing 100,000 documents.\n",
            "WARNING:root:...fit is finished, beginning transform\n",
            "WARNING:root:...padding data\n",
            "WARNING:root:done. 1 sec\n"
          ],
          "name": "stderr"
        }
      ]
    },
    {
      "metadata": {
        "id": "0jld4HT0Dp_r",
        "colab_type": "text"
      },
      "cell_type": "markdown",
      "source": [
        "Below is an example where tokens are mapped to integers"
      ]
    },
    {
      "metadata": {
        "id": "-ogmGKqUC-Jd",
        "colab_type": "code",
        "colab": {
          "base_uri": "https://localhost:8080/",
          "height": 51
        },
        "outputId": "6a8cc3dd-a432-47a7-9573-e5ee9d880144"
      },
      "cell_type": "code",
      "source": [
        "print('original list: ', target_docs[0].split())\n",
        "print('tokenized list: ', [proc.token2id[x] for x in target_docs[0].lower().split()])"
      ],
      "execution_count": 14,
      "outputs": [
        {
          "output_type": "stream",
          "text": [
            "original list:  ['Sort', 'a', 'nested', 'list', 'by', 'two', 'elements']\n",
            "tokenized list:  [118, 2, 151, 10, 43, 38, 56]\n"
          ],
          "name": "stdout"
        }
      ]
    },
    {
      "metadata": {
        "id": "ldna19QcEXYp",
        "colab_type": "text"
      },
      "cell_type": "markdown",
      "source": [
        "We can see the most common words here, by calling the `token_count_pandas() method`. "
      ]
    },
    {
      "metadata": {
        "id": "dNOluhQpD8Fq",
        "colab_type": "code",
        "colab": {
          "base_uri": "https://localhost:8080/",
          "height": 669
        },
        "outputId": "1c63804c-1f30-4889-be52-634c28e70aa2"
      },
      "cell_type": "code",
      "source": [
        "proc.token_count_pandas().head(20)"
      ],
      "execution_count": 15,
      "outputs": [
        {
          "output_type": "execute_result",
          "data": {
            "text/html": [
              "<div>\n",
              "<style scoped>\n",
              "    .dataframe tbody tr th:only-of-type {\n",
              "        vertical-align: middle;\n",
              "    }\n",
              "\n",
              "    .dataframe tbody tr th {\n",
              "        vertical-align: top;\n",
              "    }\n",
              "\n",
              "    .dataframe thead th {\n",
              "        text-align: right;\n",
              "    }\n",
              "</style>\n",
              "<table border=\"1\" class=\"dataframe\">\n",
              "  <thead>\n",
              "    <tr style=\"text-align: right;\">\n",
              "      <th></th>\n",
              "      <th>count</th>\n",
              "    </tr>\n",
              "  </thead>\n",
              "  <tbody>\n",
              "    <tr>\n",
              "      <th>a</th>\n",
              "      <td>52824</td>\n",
              "    </tr>\n",
              "    <tr>\n",
              "      <th>python</th>\n",
              "      <td>48171</td>\n",
              "    </tr>\n",
              "    <tr>\n",
              "      <th>in</th>\n",
              "      <td>47702</td>\n",
              "    </tr>\n",
              "    <tr>\n",
              "      <th>to</th>\n",
              "      <td>47281</td>\n",
              "    </tr>\n",
              "    <tr>\n",
              "      <th>how</th>\n",
              "      <td>36116</td>\n",
              "    </tr>\n",
              "    <tr>\n",
              "      <th>of</th>\n",
              "      <td>22831</td>\n",
              "    </tr>\n",
              "    <tr>\n",
              "      <th>with</th>\n",
              "      <td>15954</td>\n",
              "    </tr>\n",
              "    <tr>\n",
              "      <th>the</th>\n",
              "      <td>13505</td>\n",
              "    </tr>\n",
              "    <tr>\n",
              "      <th>list</th>\n",
              "      <td>12651</td>\n",
              "    </tr>\n",
              "    <tr>\n",
              "      <th>from</th>\n",
              "      <td>11626</td>\n",
              "    </tr>\n",
              "    <tr>\n",
              "      <th>i</th>\n",
              "      <td>9902</td>\n",
              "    </tr>\n",
              "    <tr>\n",
              "      <th>using</th>\n",
              "      <td>8372</td>\n",
              "    </tr>\n",
              "    <tr>\n",
              "      <th>string</th>\n",
              "      <td>7917</td>\n",
              "    </tr>\n",
              "    <tr>\n",
              "      <th>and</th>\n",
              "      <td>7140</td>\n",
              "    </tr>\n",
              "    <tr>\n",
              "      <th>number</th>\n",
              "      <td>6636</td>\n",
              "    </tr>\n",
              "    <tr>\n",
              "      <th>file</th>\n",
              "      <td>6383</td>\n",
              "    </tr>\n",
              "    <tr>\n",
              "      <th>do</th>\n",
              "      <td>6142</td>\n",
              "    </tr>\n",
              "    <tr>\n",
              "      <th>pandas</th>\n",
              "      <td>6108</td>\n",
              "    </tr>\n",
              "    <tr>\n",
              "      <th>for</th>\n",
              "      <td>5724</td>\n",
              "    </tr>\n",
              "    <tr>\n",
              "      <th>matplotlib</th>\n",
              "      <td>5640</td>\n",
              "    </tr>\n",
              "  </tbody>\n",
              "</table>\n",
              "</div>"
            ],
            "text/plain": [
              "            count\n",
              "a           52824\n",
              "python      48171\n",
              "in          47702\n",
              "to          47281\n",
              "how         36116\n",
              "of          22831\n",
              "with        15954\n",
              "the         13505\n",
              "list        12651\n",
              "from        11626\n",
              "i            9902\n",
              "using        8372\n",
              "string       7917\n",
              "and          7140\n",
              "number       6636\n",
              "file         6383\n",
              "do           6142\n",
              "pandas       6108\n",
              "for          5724\n",
              "matplotlib   5640"
            ]
          },
          "metadata": {
            "tags": []
          },
          "execution_count": 15
        }
      ]
    },
    {
      "metadata": {
        "id": "Ab3JU2L5Ey9_",
        "colab_type": "text"
      },
      "cell_type": "markdown",
      "source": [
        "Furthermore, the documents in our corpus have different lengths.  By setting `hueristic_pct_padding=.7`, `ktext` will truncate and pad all sequences to the 70th percentile length.  However, it can be useful to sanity check a histogram of lengths.  We inspect the `document_length_stats` property below which displays a histogram of document lengths. "
      ]
    },
    {
      "metadata": {
        "id": "ZIH4R1HREiTO",
        "colab_type": "code",
        "colab": {
          "base_uri": "https://localhost:8080/",
          "height": 266
        },
        "outputId": "a7c2c1f2-b562-4c25-dc99-9a45a3b34784"
      },
      "cell_type": "code",
      "source": [
        "proc.document_length_stats"
      ],
      "execution_count": 16,
      "outputs": [
        {
          "output_type": "execute_result",
          "data": {
            "text/html": [
              "<div>\n",
              "<style scoped>\n",
              "    .dataframe tbody tr th:only-of-type {\n",
              "        vertical-align: middle;\n",
              "    }\n",
              "\n",
              "    .dataframe tbody tr th {\n",
              "        vertical-align: top;\n",
              "    }\n",
              "\n",
              "    .dataframe thead th {\n",
              "        text-align: right;\n",
              "    }\n",
              "</style>\n",
              "<table border=\"1\" class=\"dataframe\">\n",
              "  <thead>\n",
              "    <tr style=\"text-align: right;\">\n",
              "      <th></th>\n",
              "      <th>bin</th>\n",
              "      <th>doc_count</th>\n",
              "      <th>cumsum_pct</th>\n",
              "    </tr>\n",
              "  </thead>\n",
              "  <tbody>\n",
              "    <tr>\n",
              "      <th>6</th>\n",
              "      <td>0</td>\n",
              "      <td>31</td>\n",
              "      <td>0.00031</td>\n",
              "    </tr>\n",
              "    <tr>\n",
              "      <th>0</th>\n",
              "      <td>5</td>\n",
              "      <td>34978</td>\n",
              "      <td>0.35009</td>\n",
              "    </tr>\n",
              "    <tr>\n",
              "      <th>1</th>\n",
              "      <td>10</td>\n",
              "      <td>50700</td>\n",
              "      <td>0.85709</td>\n",
              "    </tr>\n",
              "    <tr>\n",
              "      <th>2</th>\n",
              "      <td>15</td>\n",
              "      <td>12664</td>\n",
              "      <td>0.98373</td>\n",
              "    </tr>\n",
              "    <tr>\n",
              "      <th>3</th>\n",
              "      <td>20</td>\n",
              "      <td>1486</td>\n",
              "      <td>0.99859</td>\n",
              "    </tr>\n",
              "    <tr>\n",
              "      <th>5</th>\n",
              "      <td>25</td>\n",
              "      <td>124</td>\n",
              "      <td>0.99983</td>\n",
              "    </tr>\n",
              "    <tr>\n",
              "      <th>4</th>\n",
              "      <td>30</td>\n",
              "      <td>17</td>\n",
              "      <td>1.00000</td>\n",
              "    </tr>\n",
              "  </tbody>\n",
              "</table>\n",
              "</div>"
            ],
            "text/plain": [
              "   bin  doc_count  cumsum_pct\n",
              "6    0         31     0.00031\n",
              "0    5      34978     0.35009\n",
              "1   10      50700     0.85709\n",
              "2   15      12664     0.98373\n",
              "3   20       1486     0.99859\n",
              "5   25        124     0.99983\n",
              "4   30         17     1.00000"
            ]
          },
          "metadata": {
            "tags": []
          },
          "execution_count": 16
        }
      ]
    },
    {
      "metadata": {
        "id": "SCNn24hRDxeF",
        "colab_type": "text"
      },
      "cell_type": "markdown",
      "source": [
        "It is useful to keep track of the maximum length and the unique number of tokens in the corpus for later purposes."
      ]
    },
    {
      "metadata": {
        "id": "wnjhEa-NPZq6",
        "colab_type": "code",
        "colab": {
          "base_uri": "https://localhost:8080/",
          "height": 51
        },
        "outputId": "a95f37c6-608f-4c29-e6c4-4c814d7c8eaa"
      },
      "cell_type": "code",
      "source": [
        "vocab_size = max(proc.id2token.keys()) + 1\n",
        "max_length = proc.padding_maxlen\n",
        "\n",
        "print('vocab size: ', vocab_size)\n",
        "print('max length allowed for documents: ', max_length)"
      ],
      "execution_count": 17,
      "outputs": [
        {
          "output_type": "stream",
          "text": [
            "vocab size:  10225\n",
            "max length allowed for documents:  10\n"
          ],
          "name": "stdout"
        }
      ]
    },
    {
      "metadata": {
        "id": "srQ2EApW0v9X",
        "colab_type": "text"
      },
      "cell_type": "markdown",
      "source": [
        "## Language model"
      ]
    },
    {
      "metadata": {
        "id": "V31lnrq70v9T",
        "colab_type": "text"
      },
      "cell_type": "markdown",
      "source": [
        "Prepare training data for language model."
      ]
    },
    {
      "metadata": {
        "id": "Ioq7Sd9EPZq8",
        "colab_type": "code",
        "colab": {
          "base_uri": "https://localhost:8080/",
          "height": 34
        },
        "outputId": "10a21d72-b9ef-49e1-f84a-0ca5aa91b33f"
      },
      "cell_type": "code",
      "source": [
        "sequences = []\n",
        "for arr in tqdm(vecs):\n",
        "    non_zero = (arr != 0).argmax()\n",
        "    for i in range(non_zero, len(arr)):\n",
        "        sequences.append(arr[:i+1])\n",
        "sequences = pad_sequences(sequences, maxlen=max_length, padding='pre')\n",
        "sequences = np.array(sequences)\n",
        "X, y = sequences[:,:-1], sequences[:,-1]\n",
        "# y = to_categorical(y, num_classes=vocab_size)"
      ],
      "execution_count": 18,
      "outputs": [
        {
          "output_type": "stream",
          "text": [
            "100%|██████████| 100000/100000 [00:00<00:00, 125350.72it/s]\n"
          ],
          "name": "stderr"
        }
      ]
    },
    {
      "metadata": {
        "id": "WKW7TCl6PZq_",
        "colab_type": "code",
        "colab": {
          "base_uri": "https://localhost:8080/",
          "height": 306
        },
        "outputId": "c459d163-845a-483f-9e33-7faac193c784"
      },
      "cell_type": "code",
      "source": [
        "i = Input(shape=(max_length-1,))\n",
        "x = Embedding(vocab_size, 256, input_length=max_length-1)(i)\n",
        "x = LSTM(256, return_sequences=True)(x)\n",
        "last_timestep = Lambda(lambda x: x[:, -1, :])(x)\n",
        "last_timestep = Dense(vocab_size, activation='softmax')(last_timestep)\n",
        "model = Model(i, last_timestep)\n",
        "model.summary()"
      ],
      "execution_count": 19,
      "outputs": [
        {
          "output_type": "stream",
          "text": [
            "_________________________________________________________________\n",
            "Layer (type)                 Output Shape              Param #   \n",
            "=================================================================\n",
            "input_1 (InputLayer)         (None, 9)                 0         \n",
            "_________________________________________________________________\n",
            "embedding_1 (Embedding)      (None, 9, 256)            2617600   \n",
            "_________________________________________________________________\n",
            "lstm_1 (LSTM)                (None, 9, 256)            525312    \n",
            "_________________________________________________________________\n",
            "lambda_1 (Lambda)            (None, 256)               0         \n",
            "_________________________________________________________________\n",
            "dense_1 (Dense)              (None, 10225)             2627825   \n",
            "=================================================================\n",
            "Total params: 5,770,737\n",
            "Trainable params: 5,770,737\n",
            "Non-trainable params: 0\n",
            "_________________________________________________________________\n"
          ],
          "name": "stdout"
        }
      ]
    },
    {
      "metadata": {
        "id": "jnVeYIZV0v9a",
        "colab_type": "text"
      },
      "cell_type": "markdown",
      "source": [
        "## Training\n",
        "\n",
        "Now that we have created our architecture, we can train our model.  \n",
        "\n",
        "**This step takes approximately 20 minutes.  This is a good time to take a bathroom break!**"
      ]
    },
    {
      "metadata": {
        "id": "Psve_dWVPZrB",
        "colab_type": "code",
        "colab": {
          "base_uri": "https://localhost:8080/",
          "height": 326
        },
        "outputId": "2c404204-3821-499b-ef9a-94b74c6dda83"
      },
      "cell_type": "code",
      "source": [
        "model.compile(loss='sparse_categorical_crossentropy', optimizer='adam', metrics=['accuracy'])\n",
        "history = model.fit(X, y, epochs=10, batch_size=50, validation_split=0.1)"
      ],
      "execution_count": 20,
      "outputs": [
        {
          "output_type": "stream",
          "text": [
            "Train on 734247 samples, validate on 81584 samples\n",
            "Epoch 1/10\n",
            "734247/734247 [==============================] - 571s 778us/step - loss: 4.5606 - acc: 0.2724 - val_loss: 4.0829 - val_acc: 0.3267\n",
            "Epoch 2/10\n",
            "734247/734247 [==============================] - 582s 793us/step - loss: 3.3669 - acc: 0.4024 - val_loss: 3.5178 - val_acc: 0.4120\n",
            "Epoch 3/10\n",
            "734247/734247 [==============================] - 574s 782us/step - loss: 2.8238 - acc: 0.4886 - val_loss: 3.2036 - val_acc: 0.4700\n",
            "Epoch 4/10\n",
            "734247/734247 [==============================] - 558s 759us/step - loss: 2.4975 - acc: 0.5463 - val_loss: 3.0143 - val_acc: 0.5112\n",
            "Epoch 5/10\n",
            "734247/734247 [==============================] - 556s 757us/step - loss: 2.2882 - acc: 0.5833 - val_loss: 2.8891 - val_acc: 0.5384\n",
            "Epoch 6/10\n",
            "734247/734247 [==============================] - 579s 788us/step - loss: 2.1479 - acc: 0.6087 - val_loss: 2.8137 - val_acc: 0.5548\n",
            "Epoch 7/10\n",
            "734247/734247 [==============================] - 579s 788us/step - loss: 2.0500 - acc: 0.6256 - val_loss: 2.7624 - val_acc: 0.5673\n",
            "Epoch 8/10\n",
            "616350/734247 [========================>.....] - ETA: 1:29 - loss: 1.9736 - acc: 0.6376Buffered data was truncated after reaching the output size limit."
          ],
          "name": "stdout"
        }
      ]
    },
    {
      "metadata": {
        "id": "cFH1DmGHPZrE",
        "colab_type": "text"
      },
      "cell_type": "markdown",
      "source": [
        "## Generate sequence\n",
        "\n",
        "The goal of a language model is to predict the next word in a sequence.  To sanity check the language model, we will see what kind of sentence is generated when we start with a a seed word of 'is'.  We are looking to see if the sentence generated appears to be sampled from the distribution of the data.  \n",
        "\n",
        "In other words does the sentence generated look like it was written by the same author(s) pertaining to the same domain as the training corpus?  "
      ]
    },
    {
      "metadata": {
        "id": "2R-2I_HRPZrE",
        "colab_type": "code",
        "colab": {}
      },
      "cell_type": "code",
      "source": [
        "def generate_seq(model, proc, n_words, seed_text):\n",
        "    in_text = seed_text\n",
        "    for _ in range(n_words):\n",
        "        vec = proc.transform([in_text])[:,1:]\n",
        "        index = np.argmax(model.predict(vec, verbose=0), axis=1)[0]\n",
        "        out_word = ''\n",
        "        if index == 1:\n",
        "            out_word = '_unk_'\n",
        "        else:\n",
        "            out_word = proc.id2token[index]\n",
        "        in_text += ' ' + out_word\n",
        "    return in_text"
      ],
      "execution_count": 0,
      "outputs": []
    },
    {
      "metadata": {
        "id": "MCDhy30KqF2j",
        "colab_type": "text"
      },
      "cell_type": "markdown",
      "source": [
        "See what sentence is generated from language model, seeded witht he word `is`"
      ]
    },
    {
      "metadata": {
        "id": "8wpHSxIOPZrH",
        "colab_type": "code",
        "colab": {
          "base_uri": "https://localhost:8080/",
          "height": 34
        },
        "outputId": "76a3e606-c5ae-4394-c76a-cd1e7abdcdb7"
      },
      "cell_type": "code",
      "source": [
        "generate_seq(model, proc, max_length, 'is')"
      ],
      "execution_count": 32,
      "outputs": [
        {
          "output_type": "execute_result",
          "data": {
            "text/plain": [
              "'is there a way to use phantomjs in python to print'"
            ]
          },
          "metadata": {
            "tags": []
          },
          "execution_count": 32
        }
      ]
    },
    {
      "metadata": {
        "id": "zzNZqTqVPZrJ",
        "colab_type": "text"
      },
      "cell_type": "markdown",
      "source": [
        "## Generate sentence embeddings\n",
        "\n",
        "One of the goals of training the language model is learning reprsentations of sentences in our corpus.  For example, we can extract values from intermediate layers of this language model, and use those as sentence embeddings. "
      ]
    },
    {
      "metadata": {
        "id": "Y-Rig9cePZrM",
        "colab_type": "code",
        "colab": {}
      },
      "cell_type": "code",
      "source": [
        "embedding_model = Model(inputs=model.inputs, outputs=model.layers[-3].output)"
      ],
      "execution_count": 0,
      "outputs": []
    },
    {
      "metadata": {
        "id": "fW1UeLKWqkMp",
        "colab_type": "text"
      },
      "cell_type": "markdown",
      "source": [
        "The below code extracts the hidden states from the encoder when given an input.   There is one hidden state for each word in the sentence."
      ]
    },
    {
      "metadata": {
        "id": "X-FFznLQPZrO",
        "colab_type": "code",
        "colab": {
          "base_uri": "https://localhost:8080/",
          "height": 306
        },
        "outputId": "8b3e342d-76f5-4c00-bc39-b6b84e1d624d"
      },
      "cell_type": "code",
      "source": [
        "input_sequence = test_docs[random.randint(0, len(test_docs))]\n",
        "print('input sequence: ', input_sequence, '\\n\\nhidden states:\\n')\n",
        "vec = proc.transform([input_sequence])[:,1:]\n",
        "embedding_model.predict(vec)\n"
      ],
      "execution_count": 34,
      "outputs": [
        {
          "output_type": "stream",
          "text": [
            "input sequence:  for a dictionary `a`, set default value for key `somekey` as list and append value `bob`  in that key \n",
            "\n",
            "hidden states:\n",
            "\n"
          ],
          "name": "stdout"
        },
        {
          "output_type": "execute_result",
          "data": {
            "text/plain": [
              "array([[[ 0.        , -0.        , -0.        , ..., -0.        ,\n",
              "          0.6728434 , -0.        ],\n",
              "        [-0.        , -0.        , -0.68634623, ..., -0.00608053,\n",
              "          0.04332689,  0.        ],\n",
              "        [-0.02194916, -0.        , -0.        , ..., -0.        ,\n",
              "          0.        ,  0.        ],\n",
              "        ...,\n",
              "        [ 0.        ,  0.        , -0.        , ...,  0.        ,\n",
              "         -0.        , -0.        ],\n",
              "        [-0.7565876 ,  0.27250797, -0.97665966, ..., -0.16200553,\n",
              "         -0.8420539 , -0.        ],\n",
              "        [-0.761593  ,  0.40664664, -0.        , ..., -0.04313043,\n",
              "         -0.02480136, -0.07966985]]], dtype=float32)"
            ]
          },
          "metadata": {
            "tags": []
          },
          "execution_count": 34
        }
      ]
    },
    {
      "metadata": {
        "id": "PBksOOsJrTkk",
        "colab_type": "text"
      },
      "cell_type": "markdown",
      "source": [
        "Let's extract the hidden states for all the sentences in our training data."
      ]
    },
    {
      "metadata": {
        "id": "haQjC19y0v9l",
        "colab_type": "code",
        "colab": {}
      },
      "cell_type": "code",
      "source": [
        "vecs = proc.transform(test_docs)"
      ],
      "execution_count": 0,
      "outputs": []
    },
    {
      "metadata": {
        "id": "rLeLELte0v9n",
        "colab_type": "code",
        "colab": {}
      },
      "cell_type": "code",
      "source": [
        "hidden_states = embedding_model.predict(vecs[:, 1:])"
      ],
      "execution_count": 0,
      "outputs": []
    },
    {
      "metadata": {
        "id": "aF90GHpSraaK",
        "colab_type": "text"
      },
      "cell_type": "markdown",
      "source": [
        "To create a sentence embedding, we need to summarize the hidden states (there is one for each term ).  A simple approach is to use aggregate stastics like the mean, max, or the sum of all the hidden states.  There are other approaches that are outside the scope of this notebook, but that we will discuss."
      ]
    },
    {
      "metadata": {
        "id": "SCf0kjpr0v9p",
        "colab_type": "code",
        "colab": {}
      },
      "cell_type": "code",
      "source": [
        "mean_vecs = np.mean(hidden_states, axis=1)\n",
        "max_vecs = np.max(hidden_states, axis=1)\n",
        "sum_vecs = np.sum(hidden_states, axis=1)"
      ],
      "execution_count": 0,
      "outputs": []
    },
    {
      "metadata": {
        "id": "giC48Kt00v9s",
        "colab_type": "text"
      },
      "cell_type": "markdown",
      "source": [
        "## Application - Nearest Neighbor Search\n",
        "\n",
        "Now that we have a way to represent each sentence as a vector, we can use this representation on many kinds of downstream tasks.  One such task is finding a similar sentence to any given sentence. \n",
        "\n",
        "### Build vector indices\n",
        "\n",
        "We will first place all the vectorized sentences in a special data structure that allows for fast nearest neighbor lookups.  We will use [annoy](https://github.com/spotify/annoy) for this purpose."
      ]
    },
    {
      "metadata": {
        "id": "afBInH4C0v9s",
        "colab_type": "code",
        "colab": {
          "base_uri": "https://localhost:8080/",
          "height": 34
        },
        "outputId": "beb89caf-ebf5-4c00-fea9-20cc156313da"
      },
      "cell_type": "code",
      "source": [
        "dimension = hidden_states.shape[-1]\n",
        "index = AnnoyIndex(dimension)\n",
        "for i, v in enumerate(sum_vecs):\n",
        "    index.add_item(i, v)\n",
        "index.build(10)"
      ],
      "execution_count": 38,
      "outputs": [
        {
          "output_type": "execute_result",
          "data": {
            "text/plain": [
              "True"
            ]
          },
          "metadata": {
            "tags": []
          },
          "execution_count": 38
        }
      ]
    },
    {
      "metadata": {
        "id": "pp2KAWNj0v9u",
        "colab_type": "text"
      },
      "cell_type": "markdown",
      "source": [
        "### Search nearest neighbors"
      ]
    },
    {
      "metadata": {
        "id": "tr_tKEDx0v9w",
        "colab_type": "code",
        "colab": {
          "base_uri": "https://localhost:8080/",
          "height": 272
        },
        "outputId": "d05cc768-fc1b-4729-cbea-78d22346f105"
      },
      "cell_type": "code",
      "source": [
        "input_sequence = test_docs[random.randint(0, len(test_docs))]\n",
        "print('Query: ', input_sequence)\n",
        "\n",
        "vec = proc.transform([input_sequence])[:,1:]\n",
        "vec = np.sum(embedding_model.predict(vec), axis=1)\n",
        "ids, _ = index.get_nns_by_vector(vec.T, 10, include_distances=True)\n",
        "\n",
        "print('\\n\\nSearch Results:\\n')\n",
        "[test_docs[i] for i in ids]"
      ],
      "execution_count": 40,
      "outputs": [
        {
          "output_type": "stream",
          "text": [
            "Query:  sort a list of lists `list_to_sort` by indices 2,0,1 of the inner list\n",
            "\n",
            "\n",
            "Search Results:\n",
            "\n"
          ],
          "name": "stdout"
        },
        {
          "output_type": "execute_result",
          "data": {
            "text/plain": [
              "['sort a list of lists `list_to_sort` by indices 2,0,1 of the inner list',\n",
              " \"convert a list of lists `list_of_lists` into a list of strings keeping empty sub-lists as empty string ''\",\n",
              " 'sort a list of dictionaries `list_of_dct` by values in an order `order`',\n",
              " \"ordering a list of dictionaries `mylist` by elements 'weight' and 'factor'\",\n",
              " 'make a list of lists in which each list `g` are the elements from list `test` which have the same characters up to the first `_` character',\n",
              " 'sort a list of lists `L` by index 2 of the inner list',\n",
              " 'sort a list of lists `l` by index 2 of the inner list',\n",
              " \"order a list of lists `[[1, 'mike'], [1, 'bob']]` by the first value of individual list\",\n",
              " 'merge a list of dictionaries in list `L` into a single dict',\n",
              " 'split a list of tuples `data` into sub-lists of the same tuple field using itertools']"
            ]
          },
          "metadata": {
            "tags": []
          },
          "execution_count": 40
        }
      ]
    },
    {
      "metadata": {
        "id": "pnPW20o9PZrR",
        "colab_type": "text"
      },
      "cell_type": "markdown",
      "source": [
        "# Sequence to Sequence Model"
      ]
    },
    {
      "metadata": {
        "id": "VpxbvU6OCDje",
        "colab_type": "text"
      },
      "cell_type": "markdown",
      "source": [
        "Let's remind ourselves what the data looks like.  The `source` is a snippet of code and the `target` is a description of that code.  The goal would be to train a model that can generate a description given a snippet of code.  \n",
        "\n",
        "A [sequence to sequence model](https://towardsdatascience.com/how-to-create-data-products-that-are-magical-using-sequence-to-sequence-models-703f86a231f8) can be used to tackle this problem.  This is due to the fact that the input to this model is a sequence of tokens (code), and the desired output we want to predict are also a sequence of tokens (description of code.) \n"
      ]
    },
    {
      "metadata": {
        "id": "ESQyR0l2CH01",
        "colab_type": "code",
        "colab": {
          "base_uri": "https://localhost:8080/",
          "height": 51
        },
        "outputId": "4fc6d9ac-d8df-4f86-93ab-dffa436d2d4a"
      },
      "cell_type": "code",
      "source": [
        "print('source (code input):         ', source_docs[2])\n",
        "print('target (description output): ', target_docs[2])"
      ],
      "execution_count": 56,
      "outputs": [
        {
          "output_type": "stream",
          "text": [
            "source (code input):          c.decode('unicode_escape')\n",
            "target (description output):  Converting byte string in unicode string\n"
          ],
          "name": "stdout"
        }
      ]
    },
    {
      "metadata": {
        "id": "BQsnI6720v9z",
        "colab_type": "text"
      },
      "cell_type": "markdown",
      "source": [
        "## Preprocessing\n",
        "\n",
        "Similar to previous excercises, we must pre-process the raw strings into a format that can be utilized by our model.  One such format is to map each word in our corpus to a unique integer value, which we will refer to as a vocabulary.  If the source and target are from the same distribution, (which they are not in this example) the ocabulary can be shared.\n",
        "\n",
        "\n",
        "Concretely, we will tokenize, generate vocabulary, apply padding and vectorize.  These steps are as follows:\n",
        "\n",
        "**1. Tokenize:**  process of parsing strings into discrete words or tokens.\n",
        "\n",
        "**2. Generate Vocabulary:**  assign each token to a unique integer, rare-occuring tokens may be assigned to the same integer.\n",
        "\n",
        "**3. Padding:**  we standardize the sequence length of each example to be the same by truncating and padding each example to the same lentgh.\n",
        "\n",
        "The `ktext` package helps us accomplish these steps.\n"
      ]
    },
    {
      "metadata": {
        "id": "s_nE-SeKPZrS",
        "colab_type": "code",
        "colab": {
          "base_uri": "https://localhost:8080/",
          "height": 357
        },
        "outputId": "2cf383fc-8126-4e42-a7ac-e206c8053cdb"
      },
      "cell_type": "code",
      "source": [
        "source_proc = processor(hueristic_pct_padding=.7, keep_n=20000)\n",
        "source_vecs = source_proc.fit_transform(source_docs)\n",
        "\n",
        "target_proc = processor(append_indicators=True, hueristic_pct_padding=.7, keep_n=14000, padding ='post')\n",
        "target_vecs = target_proc.fit_transform(target_docs)"
      ],
      "execution_count": 41,
      "outputs": [
        {
          "output_type": "stream",
          "text": [
            "WARNING:root:....tokenizing data\n",
            "WARNING:root:Setting maximum document length to 10 based upon hueristic of 0.7 percentile.\n",
            " See full histogram by insepecting the `document_length_stats` attribute.\n",
            "WARNING:root:(1/2) done. 18 sec\n",
            "WARNING:root:....building corpus\n",
            "WARNING:root:(2/2) done. 0 sec\n",
            "WARNING:root:Finished parsing 100,000 documents.\n",
            "WARNING:root:...fit is finished, beginning transform\n",
            "WARNING:root:...padding data\n",
            "WARNING:root:done. 0 sec\n",
            "WARNING:root:....tokenizing data\n",
            "WARNING:root:Setting maximum document length to 15 based upon hueristic of 0.7 percentile.\n",
            " See full histogram by insepecting the `document_length_stats` attribute.\n",
            "WARNING:root:(1/2) done. 23 sec\n",
            "WARNING:root:....building corpus\n",
            "WARNING:root:(2/2) done. 0 sec\n",
            "WARNING:root:Finished parsing 100,000 documents.\n",
            "WARNING:root:...fit is finished, beginning transform\n",
            "WARNING:root:...padding data\n",
            "WARNING:root:done. 1 sec\n"
          ],
          "name": "stderr"
        }
      ]
    },
    {
      "metadata": {
        "id": "qkfDO83HE8Xc",
        "colab_type": "text"
      },
      "cell_type": "markdown",
      "source": [
        "We will use teacher forcing for the decoder of the sequence to sequence model, so we will offset the target sequence by one. "
      ]
    },
    {
      "metadata": {
        "id": "3b0wFryNPZrU",
        "colab_type": "code",
        "colab": {}
      },
      "cell_type": "code",
      "source": [
        "encoder_input_data = source_vecs\n",
        "encoder_seq_len = encoder_input_data.shape[1]\n",
        "\n",
        "decoder_input_data = target_vecs[:, :-1]\n",
        "decoder_target_data = target_vecs[:, 1:]\n",
        "\n",
        "num_encoder_tokens = max(source_proc.id2token.keys()) + 1\n",
        "num_decoder_tokens = max(target_proc.id2token.keys()) + 1"
      ],
      "execution_count": 0,
      "outputs": []
    },
    {
      "metadata": {
        "id": "FCkBg1_1PZrZ",
        "colab_type": "text"
      },
      "cell_type": "markdown",
      "source": [
        "## Encoder model"
      ]
    },
    {
      "metadata": {
        "id": "wvDkJOqoFHhf",
        "colab_type": "text"
      },
      "cell_type": "markdown",
      "source": [
        "The role of the encoder is to extract features and generate a representation of the input sequence, which in this case is a snippet of code. "
      ]
    },
    {
      "metadata": {
        "id": "nThkgdknPZra",
        "colab_type": "code",
        "colab": {}
      },
      "cell_type": "code",
      "source": [
        "word_emb_dim=512\n",
        "hidden_state_dim=1024\n",
        "encoder_seq_len=encoder_seq_len\n",
        "num_encoder_tokens=num_encoder_tokens\n",
        "num_decoder_tokens=num_decoder_tokens\n",
        "\n",
        "encoder_inputs = Input(shape=(encoder_seq_len,), name='Encoder-Input')\n",
        "x = Embedding(num_encoder_tokens, word_emb_dim, name='Body-Word-Embedding', mask_zero=False)(encoder_inputs)\n",
        "x = BatchNormalization(name='Encoder-Batchnorm-1')(x)\n",
        "_, state_h = GRU(hidden_state_dim, return_state=True, name='Encoder-Last-GRU', dropout=.5)(x)\n",
        "encoder_model = Model(inputs=encoder_inputs, outputs=state_h, name='Encoder-Model')\n",
        "seq2seq_encoder_out = encoder_model(encoder_inputs)"
      ],
      "execution_count": 0,
      "outputs": []
    },
    {
      "metadata": {
        "id": "8PnsgReVPZre",
        "colab_type": "text"
      },
      "cell_type": "markdown",
      "source": [
        "## Decoder model"
      ]
    },
    {
      "metadata": {
        "id": "t9IbLqTCFQr3",
        "colab_type": "text"
      },
      "cell_type": "markdown",
      "source": [
        "The role of the decoder is to generate a description of the code conditioned on the features extracted by the encoder."
      ]
    },
    {
      "metadata": {
        "id": "bu-KgmfjPZre",
        "colab_type": "code",
        "colab": {}
      },
      "cell_type": "code",
      "source": [
        "decoder_inputs = Input(shape=(None,), name='Decoder-Input')\n",
        "dec_emb = Embedding(num_decoder_tokens, word_emb_dim, name='Decoder-Word-Embedding', mask_zero=False)(decoder_inputs)\n",
        "dec_bn = BatchNormalization(name='Decoder-Batchnorm-1')(dec_emb)\n",
        "decoder_gru = GRU(hidden_state_dim, return_state=True, return_sequences=True, name='Decoder-GRU', dropout=.5)\n",
        "decoder_gru_output, _ = decoder_gru(dec_bn, initial_state=seq2seq_encoder_out)\n",
        "x = BatchNormalization(name='Decoder-Batchnorm-2')(decoder_gru_output)\n",
        "decoder_dense = Dense(num_decoder_tokens, activation='softmax', name='Final-Output-Dense')\n",
        "decoder_outputs = decoder_dense(x)"
      ],
      "execution_count": 0,
      "outputs": []
    },
    {
      "metadata": {
        "id": "WfH-WvGwPZrg",
        "colab_type": "text"
      },
      "cell_type": "markdown",
      "source": [
        "## Sequence to sequence model"
      ]
    },
    {
      "metadata": {
        "id": "kW3bg3XnFYqx",
        "colab_type": "text"
      },
      "cell_type": "markdown",
      "source": [
        "We can connect the encoder and decoder together to create the sequence to sequence model."
      ]
    },
    {
      "metadata": {
        "id": "xsNgKYlKPZri",
        "colab_type": "code",
        "colab": {}
      },
      "cell_type": "code",
      "source": [
        "seq2seq_model = Model([encoder_inputs, decoder_inputs], decoder_outputs)"
      ],
      "execution_count": 0,
      "outputs": []
    },
    {
      "metadata": {
        "id": "WT8maZlD0v-A",
        "colab_type": "text"
      },
      "cell_type": "markdown",
      "source": [
        "## Training"
      ]
    },
    {
      "metadata": {
        "id": "JxHP00h6FgL0",
        "colab_type": "text"
      },
      "cell_type": "markdown",
      "source": [
        "The below hyper parameters were found through some trial and error.  \n",
        "\n",
        "**This should take approximately ~ 35 minutes to train.**"
      ]
    },
    {
      "metadata": {
        "id": "HgUemXCbPZrk",
        "colab_type": "code",
        "colab": {
          "base_uri": "https://localhost:8080/",
          "height": 136
        },
        "outputId": "b43c882b-28fc-431c-903c-76f7d475870a"
      },
      "cell_type": "code",
      "source": [
        "batch_size = 1024\n",
        "epochs = 16\n",
        "\n",
        "seq2seq_model.compile(optimizer=optimizers.Nadam(lr=0.00005), loss='sparse_categorical_crossentropy', metrics=['accuracy'])\n",
        "history = seq2seq_model.fit([encoder_input_data, decoder_input_data],\n",
        "                            np.expand_dims(decoder_target_data, -1),\n",
        "                            batch_size=batch_size,\n",
        "                            epochs=epochs,\n",
        "                            validation_split=0.1)"
      ],
      "execution_count": 0,
      "outputs": [
        {
          "output_type": "stream",
          "text": [
            "Train on 90000 samples, validate on 10000 samples\n",
            "Epoch 1/16\n",
            "90000/90000 [==============================] - 121s 1ms/step - loss: 6.0671 - acc: 0.3574 - val_loss: 4.4458 - val_acc: 0.4160\n",
            "Epoch 2/16\n",
            "90000/90000 [==============================] - 117s 1ms/step - loss: 3.7597 - acc: 0.4568 - val_loss: 3.7423 - val_acc: 0.4717\n",
            "Epoch 3/16\n",
            "69632/90000 [======================>.......] - ETA: 25s - loss: 3.4214 - acc: 0.4830"
          ],
          "name": "stdout"
        }
      ]
    },
    {
      "metadata": {
        "id": "1lbdGPHE0v-B",
        "colab_type": "text"
      },
      "cell_type": "markdown",
      "source": [
        "## Extract encoder and decoder models"
      ]
    },
    {
      "metadata": {
        "id": "xcl66yGRF11e",
        "colab_type": "text"
      },
      "cell_type": "markdown",
      "source": [
        "For inference, we will not have teacher forcing for the decoder.  Therefore, we must re-assemble our model such we can feed one prediction at a time. "
      ]
    },
    {
      "metadata": {
        "id": "UAqk3fIwPZrn",
        "colab_type": "code",
        "colab": {}
      },
      "cell_type": "code",
      "source": [
        "def extract_decoder_model(model):\n",
        "    latent_dim = model.get_layer('Encoder-Model').output_shape[-1]\n",
        "    decoder_inputs = model.get_layer('Decoder-Input').input\n",
        "    dec_emb = model.get_layer('Decoder-Word-Embedding')(decoder_inputs)\n",
        "    dec_bn = model.get_layer('Decoder-Batchnorm-1')(dec_emb)\n",
        "    gru_inference_state_input = Input(shape=(latent_dim,), name='hidden_state_input')\n",
        "    gru_out, gru_state_out = model.get_layer('Decoder-GRU')([dec_bn, gru_inference_state_input])\n",
        "    dec_bn2 = model.get_layer('Decoder-Batchnorm-2')(gru_out)\n",
        "    dense_out = model.get_layer('Final-Output-Dense')(dec_bn2)\n",
        "    decoder_model = Model([decoder_inputs, gru_inference_state_input], [dense_out, gru_state_out])\n",
        "    return decoder_model"
      ],
      "execution_count": 0,
      "outputs": []
    },
    {
      "metadata": {
        "id": "PU8JuOvfGKta",
        "colab_type": "text"
      },
      "cell_type": "markdown",
      "source": [
        "One side effect of training a sequence-to-sequence model in this way is that the encoder can be re-used as a general purpose feature extractor.  We extract the encoder below for this purpose in a later exercise. "
      ]
    },
    {
      "metadata": {
        "id": "Xe0_KakGPZrp",
        "colab_type": "code",
        "colab": {}
      },
      "cell_type": "code",
      "source": [
        "encoder_model = seq2seq_model.get_layer('Encoder-Model')\n",
        "for layer in encoder_model.layers:\n",
        "    layer.trainable = False\n",
        "\n",
        "decoder_model = extract_decoder_model(seq2seq_model)\n",
        "decoder_model.summary()"
      ],
      "execution_count": 0,
      "outputs": []
    },
    {
      "metadata": {
        "id": "ZFdwR6UR0v-L",
        "colab_type": "text"
      },
      "cell_type": "markdown",
      "source": [
        "## Predict function description using trained sequence-to-sequence model"
      ]
    },
    {
      "metadata": {
        "id": "JvK1eN9fPZrr",
        "colab_type": "code",
        "colab": {}
      },
      "cell_type": "code",
      "source": [
        "i = random.randint(0, len(test_source_docs))\n",
        "\n",
        "max_len = target_proc.padding_maxlen\n",
        "raw_input_text = test_source_docs[i]\n",
        "\n",
        "raw_tokenized = source_proc.transform([raw_input_text])\n",
        "encoding = encoder_model.predict(raw_tokenized)\n",
        "original_encoding = encoding\n",
        "state_value = np.array(target_proc.token2id['_start_']).reshape(1, 1)\n",
        "\n",
        "decoded_sentence = []\n",
        "stop_condition = False\n",
        "while not stop_condition:\n",
        "    preds, st = decoder_model.predict([state_value, encoding])\n",
        "    pred_idx = np.argmax(preds[:, :, 2:]) + 2\n",
        "    pred_word_str = target_proc.id2token[pred_idx]\n",
        "\n",
        "    if pred_word_str == '_end_' or len(decoded_sentence) >= max_len:\n",
        "        stop_condition = True\n",
        "        break\n",
        "    decoded_sentence.append(pred_word_str)\n",
        "\n",
        "    # update the decoder for the next word\n",
        "    encoding = st\n",
        "    state_value = np.array(pred_idx).reshape(1, 1)\n",
        "\n",
        "print(raw_input_text)\n",
        "print(test_target_docs[i])\n",
        "print(' '.join(decoded_sentence))"
      ],
      "execution_count": 0,
      "outputs": []
    },
    {
      "metadata": {
        "id": "1xgPRKJqPZrv",
        "colab_type": "code",
        "colab": {}
      },
      "cell_type": "code",
      "source": [
        "## Generate Embeddings"
      ],
      "execution_count": 0,
      "outputs": []
    },
    {
      "metadata": {
        "id": "qYPM3Tqf0v-P",
        "colab_type": "code",
        "colab": {}
      },
      "cell_type": "code",
      "source": [
        "train_source_emb = encoder_model.predict(source_proc.transform(train_source_docs))"
      ],
      "execution_count": 0,
      "outputs": []
    },
    {
      "metadata": {
        "id": "geb3SOyk0v-Q",
        "colab_type": "code",
        "colab": {}
      },
      "cell_type": "code",
      "source": [
        "vecs = proc.transform(train_target_docs)\n",
        "hidden_states = embedding_model.predict(vecs[:, 1:])\n",
        "mean_vecs = np.mean(hidden_states, axis=1)\n",
        "max_vecs = np.max(hidden_states, axis=1)\n",
        "sum_vecs = np.sum(hidden_states, axis=1)\n",
        "train_target_emb = sum_vecs"
      ],
      "execution_count": 0,
      "outputs": []
    },
    {
      "metadata": {
        "id": "e_f5ptIL0v-R",
        "colab_type": "code",
        "colab": {}
      },
      "cell_type": "code",
      "source": [
        "print(train_source_emb.shape)\n",
        "print(train_target_emb.shape)"
      ],
      "execution_count": 0,
      "outputs": []
    },
    {
      "metadata": {
        "id": "8xOKEWFj0v-S",
        "colab_type": "text"
      },
      "cell_type": "markdown",
      "source": [
        "# Construct a Joint Vector Space\n",
        "\n",
        "Useful when you have different modalities, such as "
      ]
    },
    {
      "metadata": {
        "id": "-noqpPJY0v-T",
        "colab_type": "code",
        "colab": {}
      },
      "cell_type": "code",
      "source": [
        "inp = Input(shape=(train_source_emb.shape[1],))\n",
        "x = Dense(train_target_emb.shape[1], use_bias=False)(inp)\n",
        "# x = BatchNormalization()(x)\n",
        "# x = Dense(512)(x)\n",
        "modal_model = Model([inp], x)\n",
        "modal_model.summary()"
      ],
      "execution_count": 0,
      "outputs": []
    },
    {
      "metadata": {
        "id": "7zALzqWO0v-U",
        "colab_type": "code",
        "colab": {}
      },
      "cell_type": "code",
      "source": [
        "modal_model.compile(optimizer=optimizers.Nadam(lr=0.002), loss='cosine_proximity', metrics=['accuracy'])\n",
        "\n",
        "batch_size = 1024\n",
        "epochs = 10\n",
        "history = modal_model.fit([train_source_emb], train_target_emb,\n",
        "                          batch_size=batch_size, epochs=epochs, validation_split=0.1)"
      ],
      "execution_count": 0,
      "outputs": []
    },
    {
      "metadata": {
        "id": "Re8nxdPs0v-Y",
        "colab_type": "text"
      },
      "cell_type": "markdown",
      "source": [
        "## Applications\n",
        "### Use test data"
      ]
    },
    {
      "metadata": {
        "id": "ZX0AIo_B0v-Z",
        "colab_type": "code",
        "colab": {}
      },
      "cell_type": "code",
      "source": [
        "test_source_emb = encoder_model.predict(source_proc.transform(test_source_docs))"
      ],
      "execution_count": 0,
      "outputs": []
    },
    {
      "metadata": {
        "id": "2BaHfbsl0v-a",
        "colab_type": "code",
        "colab": {}
      },
      "cell_type": "code",
      "source": [
        "vecs = proc.transform(test_target_docs)\n",
        "hidden_states = embedding_model.predict(vecs[:, 1:])\n",
        "mean_vecs = np.mean(hidden_states, axis=1)\n",
        "max_vecs = np.max(hidden_states, axis=1)\n",
        "sum_vecs = np.sum(hidden_states, axis=1)\n",
        "test_target_emb = sum_vecs"
      ],
      "execution_count": 0,
      "outputs": []
    },
    {
      "metadata": {
        "id": "QgKykGVh0v-b",
        "colab_type": "code",
        "colab": {}
      },
      "cell_type": "code",
      "source": [
        "print(test_source_emb.shape)\n",
        "print(test_target_emb.shape)"
      ],
      "execution_count": 0,
      "outputs": []
    },
    {
      "metadata": {
        "id": "eg7JX1Vu0v-d",
        "colab_type": "text"
      },
      "cell_type": "markdown",
      "source": [
        "### Build vector indices"
      ]
    },
    {
      "metadata": {
        "id": "D7HKpc3j0v-d",
        "colab_type": "code",
        "colab": {}
      },
      "cell_type": "code",
      "source": [
        "dimension = hidden_states.shape[-1]\n",
        "index = AnnoyIndex(dimension)\n",
        "for i, v in enumerate(test_target_emb):\n",
        "    index.add_item(i, v)\n",
        "index.build(10)"
      ],
      "execution_count": 0,
      "outputs": []
    },
    {
      "metadata": {
        "id": "C-fpIqvQ0v-f",
        "colab_type": "text"
      },
      "cell_type": "markdown",
      "source": [
        "### Search nearest neighbors"
      ]
    },
    {
      "metadata": {
        "id": "zPlMXs500v-g",
        "colab_type": "code",
        "colab": {}
      },
      "cell_type": "code",
      "source": [
        "i = random.randint(0, len(test_source_docs))\n",
        "input_sequence = test_source_docs[i]\n",
        "print(input_sequence)\n",
        "\n",
        "vec = np.expand_dims(test_source_emb[i], 0)\n",
        "out_vec = modal_model.predict(vec)\n",
        "ids, _ = index.get_nns_by_vector(out_vec.T, 10, include_distances=True)\n",
        "[test_target_docs[i] for i in ids]"
      ],
      "execution_count": 0,
      "outputs": []
    }
  ]
}